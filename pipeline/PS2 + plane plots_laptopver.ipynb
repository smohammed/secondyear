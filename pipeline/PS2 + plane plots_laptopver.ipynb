{
 "cells": [
  {
   "cell_type": "code",
   "execution_count": 2,
   "metadata": {},
   "outputs": [],
   "source": [
    "ps = fits.open('../plane_ps2.fits')[1].data"
   ]
  },
  {
   "cell_type": "code",
   "execution_count": 2,
   "metadata": {},
   "outputs": [],
   "source": [
    "#detcut = np.where((ps['ng'] > 0) & (ps['nr'] > 0) & (ps['ni'] > 0) & (ps['nz'] > 0) & (ps['ny'] > 0))\n",
    "detcut = np.where((ps['ng'] > 0) & (ps['nr'] > 0) & (ps['ni'] > 0) & (ps['nz'] > 0) & (ps['ny'] > 0) & (ps['gMeanPSFMag'] > 0) & (ps['rMeanPSFMag'] > 0) & (ps['iMeanPSFMag'] > 0) & (ps['zMeanPSFMag'] > 0) & (ps['yMeanPSFMag'] > 0))\n",
    "\n",
    "ps2 = ps[detcut]"
   ]
  },
  {
   "cell_type": "code",
   "execution_count": 3,
   "metadata": {},
   "outputs": [
    {
     "name": "stdout",
     "output_type": "stream",
     "text": [
      "1449548\n",
      "1447153\n"
     ]
    }
   ],
   "source": [
    "print len(ps)\n",
    "print len(ps2)"
   ]
  },
  {
   "cell_type": "code",
   "execution_count": 4,
   "metadata": {},
   "outputs": [
    {
     "data": {
      "image/png": "[encoded data removed]",
      "text/plain": [
       "<Figure size 432x288 with 1 Axes>"
      ]
     },
     "metadata": {
      "needs_background": "light"
     },
     "output_type": "display_data"
    }
   ],
   "source": [
    "plt.hist(ps2['ng'], bins=10, range=[0,20], label='ng')\n",
    "plt.hist(ps2['nr'], bins=10, range=[0,20], histtype='step', linewidth=2, stacked=True, color='red', label='nr')\n",
    "plt.hist(ps2['ni'], bins=10, range=[0,20], histtype='step', linewidth=2, stacked=True, color='orange', label='ni')\n",
    "plt.hist(ps2['nz'], bins=10, range=[0,20], histtype='step', linewidth=2, stacked=True, color='green', label='nz')\n",
    "plt.hist(ps2['ny'], bins=10, range=[0,20], histtype='step', linewidth=2, stacked=True, color='yellow', label='ny')\n",
    "plt.legend(loc=2)\n",
    "plt.show()"
   ]
  },
  {
   "cell_type": "code",
   "execution_count": 3,
   "metadata": {},
   "outputs": [
    {
     "ename": "NameError",
     "evalue": "name 'ps2' is not defined",
     "output_type": "error",
     "traceback": [
      "\u001b[0;31m---------------------------------------------------------------------------\u001b[0m",
      "\u001b[0;31mNameError\u001b[0m                                 Traceback (most recent call last)",
      "\u001b[0;32m<ipython-input-3-8f365e0adcd8>\u001b[0m in \u001b[0;36m<module>\u001b[0;34m()\u001b[0m\n\u001b[1;32m      1\u001b[0m \u001b[0mpg\u001b[0m \u001b[0;34m=\u001b[0m \u001b[0mfits\u001b[0m\u001b[0;34m.\u001b[0m\u001b[0mopen\u001b[0m\u001b[0;34m(\u001b[0m\u001b[0;34m'../plane_gaiadr2_dust_11_14_18.fits'\u001b[0m\u001b[0;34m)\u001b[0m\u001b[0;34m[\u001b[0m\u001b[0;36m1\u001b[0m\u001b[0;34m]\u001b[0m\u001b[0;34m.\u001b[0m\u001b[0mdata\u001b[0m\u001b[0;34m\u001b[0m\u001b[0m\n\u001b[1;32m      2\u001b[0m \u001b[0mpggal\u001b[0m \u001b[0;34m=\u001b[0m \u001b[0mSkyCoord\u001b[0m\u001b[0;34m(\u001b[0m\u001b[0mpg\u001b[0m\u001b[0;34m[\u001b[0m\u001b[0;34m'ra_plane'\u001b[0m\u001b[0;34m]\u001b[0m\u001b[0;34m*\u001b[0m\u001b[0mu\u001b[0m\u001b[0;34m.\u001b[0m\u001b[0mdeg\u001b[0m\u001b[0;34m,\u001b[0m \u001b[0mpg\u001b[0m\u001b[0;34m[\u001b[0m\u001b[0;34m'dec_plane'\u001b[0m\u001b[0;34m]\u001b[0m\u001b[0;34m*\u001b[0m\u001b[0mu\u001b[0m\u001b[0;34m.\u001b[0m\u001b[0mdeg\u001b[0m\u001b[0;34m,\u001b[0m \u001b[0mframe\u001b[0m\u001b[0;34m=\u001b[0m\u001b[0;34m'icrs'\u001b[0m\u001b[0;34m)\u001b[0m\u001b[0;34m\u001b[0m\u001b[0m\n\u001b[0;32m----> 3\u001b[0;31m \u001b[0mpsgal\u001b[0m \u001b[0;34m=\u001b[0m \u001b[0mSkyCoord\u001b[0m\u001b[0;34m(\u001b[0m\u001b[0mps2\u001b[0m\u001b[0;34m[\u001b[0m\u001b[0;34m'ra'\u001b[0m\u001b[0;34m]\u001b[0m\u001b[0;34m*\u001b[0m\u001b[0mu\u001b[0m\u001b[0;34m.\u001b[0m\u001b[0mdeg\u001b[0m\u001b[0;34m,\u001b[0m \u001b[0mps2\u001b[0m\u001b[0;34m[\u001b[0m\u001b[0;34m'dec'\u001b[0m\u001b[0;34m]\u001b[0m\u001b[0;34m*\u001b[0m\u001b[0mu\u001b[0m\u001b[0;34m.\u001b[0m\u001b[0mdeg\u001b[0m\u001b[0;34m,\u001b[0m \u001b[0mframe\u001b[0m\u001b[0;34m=\u001b[0m\u001b[0;34m'icrs'\u001b[0m\u001b[0;34m)\u001b[0m\u001b[0;34m\u001b[0m\u001b[0m\n\u001b[0m\u001b[1;32m      4\u001b[0m \u001b[0mpsind\u001b[0m\u001b[0;34m,\u001b[0m \u001b[0mpgind\u001b[0m\u001b[0;34m,\u001b[0m \u001b[0mangsep\u001b[0m\u001b[0;34m,\u001b[0m \u001b[0mang3d\u001b[0m \u001b[0;34m=\u001b[0m \u001b[0msearch_around_sky\u001b[0m\u001b[0;34m(\u001b[0m\u001b[0mpsgal\u001b[0m\u001b[0;34m,\u001b[0m \u001b[0mpggal\u001b[0m\u001b[0;34m,\u001b[0m \u001b[0;36m1\u001b[0m\u001b[0;34m*\u001b[0m\u001b[0mu\u001b[0m\u001b[0;34m.\u001b[0m\u001b[0marcsec\u001b[0m\u001b[0;34m)\u001b[0m\u001b[0;34m\u001b[0m\u001b[0m\n",
      "\u001b[0;31mNameError\u001b[0m: name 'ps2' is not defined"
     ]
    }
   ],
   "source": [
    "pg = fits.open('../plane_gaiadr2_dust_11_14_18.fits')[1].data\n",
    "pggal = SkyCoord(pg['ra_plane']*u.deg, pg['dec_plane']*u.deg, frame='icrs')\n",
    "psgal = SkyCoord(ps2['ra']*u.deg, ps2['dec']*u.deg, frame='icrs')\n",
    "psind, pgind, angsep, ang3d = search_around_sky(psgal, pggal, 1*u.arcsec)"
   ]
  },
  {
   "cell_type": "code",
   "execution_count": 1,
   "metadata": {},
   "outputs": [
    {
     "ename": "NameError",
     "evalue": "name 'ps2' is not defined",
     "output_type": "error",
     "traceback": [
      "\u001b[0;31m---------------------------------------------------------------------------\u001b[0m",
      "\u001b[0;31mNameError\u001b[0m                                 Traceback (most recent call last)",
      "\u001b[0;32m<ipython-input-1-68ec7fc2737b>\u001b[0m in \u001b[0;36m<module>\u001b[0;34m()\u001b[0m\n\u001b[0;32m----> 1\u001b[0;31m \u001b[0mps3\u001b[0m \u001b[0;34m=\u001b[0m \u001b[0mps2\u001b[0m\u001b[0;34m[\u001b[0m\u001b[0mpsind\u001b[0m\u001b[0;34m]\u001b[0m\u001b[0;34m\u001b[0m\u001b[0m\n\u001b[0m\u001b[1;32m      2\u001b[0m \u001b[0mpg2\u001b[0m \u001b[0;34m=\u001b[0m \u001b[0mpg\u001b[0m\u001b[0;34m[\u001b[0m\u001b[0mpgind\u001b[0m\u001b[0;34m]\u001b[0m\u001b[0;34m\u001b[0m\u001b[0m\n\u001b[1;32m      3\u001b[0m \u001b[0mpsg\u001b[0m \u001b[0;34m=\u001b[0m \u001b[0mhstack\u001b[0m\u001b[0;34m(\u001b[0m\u001b[0;34m[\u001b[0m\u001b[0mTable\u001b[0m\u001b[0;34m(\u001b[0m\u001b[0mps3\u001b[0m\u001b[0;34m)\u001b[0m\u001b[0;34m,\u001b[0m \u001b[0mTable\u001b[0m\u001b[0;34m(\u001b[0m\u001b[0mpg2\u001b[0m\u001b[0;34m)\u001b[0m\u001b[0;34m]\u001b[0m\u001b[0;34m)\u001b[0m\u001b[0;34m\u001b[0m\u001b[0m\n\u001b[1;32m      4\u001b[0m \u001b[0;32mprint\u001b[0m \u001b[0mlen\u001b[0m\u001b[0;34m(\u001b[0m\u001b[0mpsg\u001b[0m\u001b[0;34m)\u001b[0m\u001b[0;34m\u001b[0m\u001b[0m\n",
      "\u001b[0;31mNameError\u001b[0m: name 'ps2' is not defined"
     ]
    }
   ],
   "source": [
    "ps3 = ps2[psind]\n",
    "pg2 = pg[pgind]\n",
    "psg = hstack([Table(ps3), Table(pg2)])\n",
    "print len(psg)"
   ]
  },
  {
   "cell_type": "code",
   "execution_count": null,
   "metadata": {},
   "outputs": [],
   "source": [
    "plt.scatter(pg['gl'], pg['gb'],s=1)\n",
    "plt.scatter(ps['gl'], ps['gb'],s=1)\n",
    "plt.show()"
   ]
  },
  {
   "cell_type": "code",
   "execution_count": null,
   "metadata": {},
   "outputs": [],
   "source": [
    "from matplotlib.patches import Polygon\n",
    "from matplotlib.collections import PatchCollection\n",
    "fig, ax = plt.subplots()\n",
    "pickles = Table.read('../picklemags_laphare_final.txt', format='ascii')\n",
    "scatter_contour(psg['nuv_1']-psg['gMeanPSFMag'], psg['gMeanPSFMag']-psg['rMeanPSFMag'], threshold=10000, log_counts=True, histogram2d_args=dict(bins=40), plot_args=dict(color='k', markersize=1, alpha=0.1), contour_args=dict(cmap=cm.gray))\n",
    "plt.scatter(pickles['nuv']-pickles['g'], pickles['g']-pickles['r'], color='red', label='SED model',  s=30, zorder=20)\n",
    "plt.xlim((-1.2, 10))\n",
    "plt.ylim((-1.5, 2))\n",
    "\n",
    "plt.annotate('O', xy=(0, -0.9), size=20)\n",
    "plt.annotate('B', xy=(1, -0.81), size=20)\n",
    "plt.annotate('A', xy=(2.5, -0.5), size=20)\n",
    "plt.annotate('F', xy=(3.7, -0.5), size=20)\n",
    "plt.annotate('G', xy=(5, -0.3), size=20)\n",
    "plt.annotate('K', xy=(6.2, -0.1), size=20)\n",
    "plt.xlabel('NUV - g')\n",
    "plt.ylabel('g - r')\n",
    "plt.arrow(3,  -0.75,  2.972-1.1838,  1.1838-0.8664,  head_length=0.05,  head_width=0.02,  color='red')\n",
    "plt.legend(scatterpoints=1, loc=4)\n",
    "plt.show()\n",
    "\n",
    "# MS, WDs and binaries respectively\n",
    "p1 = Polygon([[1.7, -0.5], [1.9, 0.3], [2.7, 0.7], [4, 1.05], [5.2, 1.05], [5.8, 1], [6.5, 0.95], [6.6, 0.3], [6, -0.1], [4.6, -0.4], [3.2, -0.5], [1.7, -0.5]])\n",
    "p2 = Polygon([[-1, -0.6], [0.9, -0.25], [0.73, 0], [-1, -0.3], [-1, -0.6]])\n",
    "p3 = Polygon([[1.7, -0.5], [1.9, 0.3], [2.7, 0.7], [4, 1.05], [5.2, 1.05], [5.8, 1], [6.5, 0.95], [6.5, 2], [-2.1, 2], [-2.1, 0.5], [1.9, 0.3]])\n",
    "\n",
    "patches = [p1, p2, p3]\n",
    "p = PatchCollection(patches, alpha=0.3, cmap=matplotlib.cm.jet)\n",
    "p.set_array(np.array([100, 50, 80]))\n",
    "#p.set_array(np.array(100.*np.random.rand(3)))\n",
    "ax.add_collection(p)\n",
    "plt.show()"
   ]
  },
  {
   "cell_type": "code",
   "execution_count": null,
   "metadata": {},
   "outputs": [],
   "source": [
    "threshold = 1000\n",
    "bins = 40\n",
    "nuvg = (psg['nuv_1']-psg['ebv']*7.24)-(psg['phot_g_mean_mag']-psg['ebv']*2.85)\n",
    "mg = psg['phot_g_mean_mag']-psg['distmod']-psg['ebv']*2.85\n",
    "\n",
    "wdcut = np.where((nuvg < 2) & (mg > 8))\n",
    "wds = psg[wdcut]\n",
    "\n",
    "scatter_contour(nuvg, mg, threshold=threshold, log_counts=True, histogram2d_args=dict(bins=bins, range=[[-1,12], [-2,14]]), plot_args=dict(color='k', markersize=1, alpha=0.1), contour_args=dict(cmap=cm.gray, zorder=10))\n",
    "\n",
    "plt.scatter(nuvg[wdcut], mg[wdcut], s=1,c='blue', label='WDs')\n",
    "plt.xlabel('(NUV$_{Plane}$ - G)$_{0}$')\n",
    "plt.ylabel('M$_{G_0}$')\n",
    "plt.xlim((-2, 10))\n",
    "plt.ylim((14, -3))\n",
    "plt.show()"
   ]
  },
  {
   "cell_type": "code",
   "execution_count": null,
   "metadata": {},
   "outputs": [],
   "source": [
    "plt.hist(np.log10(wds['dist']))\n",
    "plt.xlabel('log(dist)')\n",
    "plt.show()"
   ]
  },
  {
   "cell_type": "code",
   "execution_count": null,
   "metadata": {},
   "outputs": [],
   "source": [
    "scatter_contour(psg['nuv_1']-psg['gMeanPSFMag'], psg['gMeanPSFMag']-psg['rMeanPSFMag'], threshold=10000, log_counts=True, histogram2d_args=dict(bins=40), plot_args=dict(color='k', markersize=1, alpha=0.1), contour_args=dict(cmap=cm.gray))\n",
    "plt.scatter(pickles['nuv']-pickles['g'], pickles['g']-pickles['r'], color='red', label='SED model',  s=30, zorder=20)\n",
    "plt.scatter(wds['nuv_1']-wds['gMeanPSFMag'], wds['gMeanPSFMag']-wds['rMeanPSFMag'],s=1)\n",
    "plt.xlim((-1.2, 10))\n",
    "plt.ylim((-1.5, 2))\n",
    "plt.xlabel('nuv - g')\n",
    "plt.ylabel('g - r')\n",
    "plt.show()"
   ]
  },
  {
   "cell_type": "code",
   "execution_count": null,
   "metadata": {},
   "outputs": [],
   "source": [
    "plt.scatter(psg['gl_1'], psg['gb_2'], s=1)\n",
    "plt.scatter(wds['gl_1'], wds['gb_2'], s=1)\n",
    "plt.show()"
   ]
  },
  {
   "cell_type": "code",
   "execution_count": null,
   "metadata": {},
   "outputs": [],
   "source": [
    "obcut = np.where((mg < -0.5) & (mg > -2) & (nuvg > 0) & (nuvg < 1))\n",
    "ob = psg[obcut]\n",
    "\n",
    "scatter_contour(nuvg, mg, threshold=threshold, log_counts=True, histogram2d_args=dict(bins=bins, range=[[-1,12], [-2,14]]), plot_args=dict(color='k', markersize=1, alpha=0.1), contour_args=dict(cmap=cm.gray, zorder=10))\n",
    "\n",
    "plt.scatter(nuvg[obcut], mg[obcut], s=1,c='blue', label='WDs', zorder=10)\n",
    "plt.xlabel('(NUV$_{Plane}$ - G)$_{0}$')\n",
    "plt.ylabel('M$_{G_0}$')\n",
    "plt.xlim((-2, 10))\n",
    "plt.ylim((14, -3))\n",
    "plt.show()"
   ]
  },
  {
   "cell_type": "code",
   "execution_count": null,
   "metadata": {},
   "outputs": [],
   "source": [
    "scatter_contour(psg['nuv_1']-psg['gMeanPSFMag'], psg['gMeanPSFMag']-psg['rMeanPSFMag'], threshold=10000, log_counts=True, histogram2d_args=dict(bins=40), plot_args=dict(color='k', markersize=1, alpha=0.1), contour_args=dict(cmap=cm.gray))\n",
    "plt.scatter(ob['nuv_1']-ob['gMeanPSFMag'], ob['gMeanPSFMag']-ob['rMeanPSFMag'],s=1)\n",
    "plt.scatter(pickles['nuv']-pickles['g'], pickles['g']-pickles['r'], color='red', label='SED model',  s=30, zorder=20)\n",
    "plt.xlim((-1.2, 10))\n",
    "plt.ylim((-1.5, 2))\n",
    "plt.xlabel('nuv - g')\n",
    "plt.ylabel('g - r')\n",
    "plt.show()"
   ]
  },
  {
   "cell_type": "code",
   "execution_count": null,
   "metadata": {},
   "outputs": [],
   "source": [
    "ebvcut = np.where(psg['ebv']> 0)\n",
    "scatter_contour(((psg['nuv_1']-psg['ebv']*7.24)-(psg['gMeanPSFMag']-psg['ebv']*3.172))[ebvcut], ((psg['gMeanPSFMag']-psg['ebv']*3.172)-(psg['rMeanPSFMag']-psg['ebv']*2.271))[ebvcut], threshold=10000, log_counts=True, histogram2d_args=dict(bins=40), plot_args=dict(color='k', markersize=1, alpha=0.1), contour_args=dict(cmap=cm.gray))\n",
    "plt.scatter((ob['nuv_1']-ob['ebv']*7.24)-(ob['gMeanPSFMag']-ob['ebv']*3.172), (ob['gMeanPSFMag']-ob['ebv']*3.172)-(ob['rMeanPSFMag']-ob['ebv']*2.271), s=1)\n",
    "plt.scatter(pickles['nuv']-pickles['g'], pickles['g']-pickles['r'], color='red', label='SED model',  s=30, zorder=20)\n",
    "plt.xlim((-1.2, 10))\n",
    "plt.ylim((-1.5, 2))\n",
    "plt.xlabel('nuv - g')\n",
    "plt.ylabel('g - r')\n",
    "plt.show()"
   ]
  },
  {
   "cell_type": "code",
   "execution_count": null,
   "metadata": {},
   "outputs": [],
   "source": []
  },
  {
   "cell_type": "code",
   "execution_count": null,
   "metadata": {},
   "outputs": [],
   "source": []
  }
 ],
 "metadata": {
  "kernelspec": {
   "display_name": "Python 2",
   "language": "python",
   "name": "python2"
  },
  "language_info": {
   "codemirror_mode": {
    "name": "ipython",
    "version": 2
   },
   "file_extension": ".py",
   "mimetype": "text/x-python",
   "name": "python",
   "nbconvert_exporter": "python",
   "pygments_lexer": "ipython2",
   "version": "2.7.12"
  }
 },
 "nbformat": 4,
 "nbformat_minor": 2
}
